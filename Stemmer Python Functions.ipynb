{
 "cells": [
  {
   "cell_type": "code",
   "execution_count": 1,
   "id": "3357c8a3",
   "metadata": {},
   "outputs": [],
   "source": [
    "def isCons(word,index):\n",
    "    vowels = 'aeiou'\n",
    "    letter = word[index].lower()\n",
    "    if letter in vowels:\n",
    "        return False\n",
    "    elif letter == 'y' and (index != 0 and word[index-1].lower() not in vowels):\n",
    "        return False\n",
    "    else:\n",
    "        return True"
   ]
  },
  {
   "cell_type": "code",
   "execution_count": 2,
   "id": "159fd60c",
   "metadata": {},
   "outputs": [],
   "source": [
    "def vcPair(send):\n",
    "    count = 0\n",
    "    k = len(send) - 1\n",
    "    for i in range (k):\n",
    "        if not isCons(send, i) and isCons(send, i+1):\n",
    "            count += 1\n",
    "    return count"
   ]
  },
  {
   "cell_type": "code",
   "execution_count": 3,
   "id": "34da6704",
   "metadata": {},
   "outputs": [],
   "source": [
    "def vcSeries(send):\n",
    "    p = len(send) - 1\n",
    "    if isCons(send, p):\n",
    "        while(p > 0):\n",
    "            if isCons(send, p) and not isCons(send, p-1):\n",
    "                p -= 2\n",
    "            else: return False\n",
    "        if p < 0 or (p == 0 and isCons(send, 0)):\n",
    "            return True\n",
    "        else: return False\n",
    "    else:\n",
    "        while(p > 0):\n",
    "            if not isCons(send, p) and isCons(send, p-1):\n",
    "                p -= 2\n",
    "            else: return False\n",
    "        if p < 0 or (p == 0 and not isCons(send, 0)):\n",
    "            return True\n",
    "        else: return False"
   ]
  },
  {
   "cell_type": "code",
   "execution_count": 4,
   "id": "8feddc7c",
   "metadata": {},
   "outputs": [],
   "source": [
    "# Solution 1\n",
    "def endsWithE(word):\n",
    "    if word[-1] == 'e':\n",
    "        send = word[:-1]\n",
    "        p = len(send) - 1\n",
    "        if vcPair(send) == 1:\n",
    "            if isCons(word, 0) and isCons(word, p) and isCons(word, p-1):\n",
    "                return word\n",
    "        else:\n",
    "            return word[:-1]\n",
    "\n",
    "    else:\n",
    "        return \"Not in case\""
   ]
  },
  {
   "cell_type": "code",
   "execution_count": 44,
   "id": "703c50fb",
   "metadata": {},
   "outputs": [
    {
     "name": "stdout",
     "output_type": "stream",
     "text": [
      "Paste -> Paste\n",
      "Loathe -> Loathe\n",
      "Bottle -> Bottle\n",
      "Secure -> Secur\n",
      "Range -> Range\n"
     ]
    }
   ],
   "source": [
    "# Examples of Solution 1a\n",
    "print(\"Paste -> \" + endsWithE(\"Paste\"))\n",
    "print(\"Loathe -> \" + endsWithE(\"Loathe\"))\n",
    "print(\"Bottle -> \" + endsWithE(\"Bottle\"))\n",
    "print(\"Secure -> \" + endsWithE(\"Secure\"))\n",
    "print(\"Range -> \" + endsWithE(\"Range\"))"
   ]
  },
  {
   "cell_type": "code",
   "execution_count": 6,
   "id": "6dbe9430",
   "metadata": {},
   "outputs": [],
   "source": [
    "# Solution 1b\n",
    "def endsWithES(word):\n",
    "    if word.lower().endswith(\"ches\") or word.lower().endswith(\"shes\"):\n",
    "        return word[:-2]\n",
    "    \n",
    "    elif word.lower().endswith(\"es\"):\n",
    "        return word[:-2]\n",
    "    \n",
    "    else:\n",
    "        return \"Not in case\""
   ]
  },
  {
   "cell_type": "code",
   "execution_count": 7,
   "id": "06913706",
   "metadata": {},
   "outputs": [
    {
     "name": "stdout",
     "output_type": "stream",
     "text": [
      "Beaches -> Beach\n",
      "Bushes -> Bush\n",
      "Wooshes -> Woosh\n",
      "Cliches -> Clich\n"
     ]
    }
   ],
   "source": [
    "# Examples of Solution 1b\n",
    "print(\"Beaches -> \" + endsWithES(\"Beaches\"))\n",
    "print(\"Bushes -> \" + endsWithES(\"Bushes\"))\n",
    "print(\"Wooshes -> \" + endsWithES(\"Wooshes\"))\n",
    "print(\"Cliches -> \" + endsWithES(\"Cliches\"))"
   ]
  },
  {
   "cell_type": "code",
   "execution_count": 8,
   "id": "d1207afd",
   "metadata": {},
   "outputs": [],
   "source": [
    "# Solution 2\n",
    "def endsWithIS(word):\n",
    "    if word.lower().endswith(\"is\"):\n",
    "        return word\n",
    "    else:\n",
    "        return \"Not in case\""
   ]
  },
  {
   "cell_type": "code",
   "execution_count": 9,
   "id": "9313723e",
   "metadata": {},
   "outputs": [
    {
     "name": "stdout",
     "output_type": "stream",
     "text": [
      "Appendicitis -> Appendicitis\n",
      "Basis -> Basis\n"
     ]
    }
   ],
   "source": [
    "# Examples of Solution 2\n",
    "print(\"Appendicitis -> \" + endsWithIS(\"Appendicitis\"))\n",
    "print(\"Basis -> \" + endsWithIS(\"Basis\"))"
   ]
  },
  {
   "cell_type": "code",
   "execution_count": 10,
   "id": "2226aa7f",
   "metadata": {},
   "outputs": [],
   "source": [
    "# Solution 3\n",
    "def endsWithYING(word):\n",
    "    if word.lower().endswith(\"ying\"):\n",
    "        send = word[:-4]\n",
    "        if vcPair(send) == 0 and isCons(word, 0) and not isCons(word, 1):\n",
    "            return word[:-4] + 'i'\n",
    "        else: return word\n",
    "        \n",
    "    elif word.lower().endswith(\"yed\"): return word[:-2]\n",
    "    \n",
    "    else:\n",
    "        return \"Not in case\""
   ]
  },
  {
   "cell_type": "code",
   "execution_count": 11,
   "id": "66ca0676",
   "metadata": {},
   "outputs": [
    {
     "name": "stdout",
     "output_type": "stream",
     "text": [
      "Dying -> Di\n",
      "Crying -> Crying\n",
      "Disqualifying -> Disqualifying\n",
      "Dyed -> Dy\n",
      "Swayed -> Sway\n"
     ]
    }
   ],
   "source": [
    "# Examples of Solution 3\n",
    "print(\"Dying -> \" + endsWithYING(\"Dying\"))\n",
    "print(\"Crying -> \" + endsWithYING(\"Crying\"))\n",
    "print(\"Disqualifying -> \" + endsWithYING(\"Disqualifying\"))\n",
    "print(\"Dyed -> \" + endsWithYING(\"Dyed\"))\n",
    "print(\"Swayed -> \" + endsWithYING(\"Swayed\"))"
   ]
  },
  {
   "cell_type": "code",
   "execution_count": 12,
   "id": "ab9b22c7",
   "metadata": {},
   "outputs": [],
   "source": [
    "# Solution 4\n",
    "def endsWithIC(word):\n",
    "    if word.lower().endswith(\"ic\"):\n",
    "        send = word[:-2]\n",
    "        if vcPair(send) == 2:\n",
    "            if vcSeries(send):\n",
    "                word = send[:-2] + \"ica*\"\n",
    "                return word[:-2]\n",
    "            else: return word[:-2]\n",
    "        else: return word[:-2]\n",
    "            \n",
    "    elif word.lower().endswith(\"ical\"):\n",
    "        send = word[:-4]\n",
    "        if vcPair(send) == 2:\n",
    "            if vcSeries(send):\n",
    "                word[:-2] + \"ica*\"\n",
    "                return word\n",
    "            else: return word[:-4]\n",
    "        else: return word[:-4]\n",
    "        \n",
    "    else:\n",
    "        return \"Not in case\""
   ]
  },
  {
   "cell_type": "code",
   "execution_count": 13,
   "id": "bcb3b4d1",
   "metadata": {},
   "outputs": [
    {
     "name": "stdout",
     "output_type": "stream",
     "text": [
      "Medical -> Med\n",
      "Political -> Political\n",
      "Pharmaceutical -> Pharmaceut\n",
      "Epic -> Ep\n",
      "Politic -> Polic\n",
      "Macrocyclic -> Macrocycl\n"
     ]
    }
   ],
   "source": [
    "# Examples for Solution 4\n",
    "print(\"Medical -> \" + endsWithIC(\"Medical\")) # vcPair = 1\n",
    "print(\"Political -> \" + endsWithIC(\"Political\")) # vcPair = 2\n",
    "print(\"Pharmaceutical -> \" + endsWithIC(\"Pharmaceutical\")) # vcPair = 3\n",
    "print(\"Epic -> \" + endsWithIC(\"Epic\")) # vcPair = 1\n",
    "print(\"Politic -> \" + endsWithIC(\"Politic\")) # vcPair = 2\n",
    "print(\"Macrocyclic -> \" + endsWithIC(\"Macrocyclic\")) # vcPair = 3"
   ]
  },
  {
   "cell_type": "code",
   "execution_count": 14,
   "id": "1c08532a",
   "metadata": {},
   "outputs": [],
   "source": [
    "# Solution 5\n",
    "def endsWithATIVE(word):\n",
    "    if word.lower().endswith(\"ative\"):\n",
    "        send = word[:-5]\n",
    "        if vcPair(send) == 2: \n",
    "            word = word[:-5] + \"ate\"\n",
    "            return word\n",
    "        elif vcPair(send) == 1: \n",
    "            return word[:-5] + \"at\"\n",
    "        elif vcPair(send) > 2: \n",
    "            return word[:-5]\n",
    "        else: \n",
    "            return word\n",
    "        \n",
    "    else:\n",
    "        return \"Not in case\""
   ]
  },
  {
   "cell_type": "code",
   "execution_count": 15,
   "id": "49b9792f",
   "metadata": {},
   "outputs": [
    {
     "name": "stdout",
     "output_type": "stream",
     "text": [
      "Native -> Native\n",
      "Combative -> Combat\n",
      "Generative -> Generate\n",
      "Collaborative -> Collabor\n"
     ]
    }
   ],
   "source": [
    "# Examples for Solution 5\n",
    "print(\"Native -> \" + endsWithATIVE(\"Native\")) # vcPair = 0\n",
    "print(\"Combative -> \" + endsWithATIVE(\"Combative\")) #vcPair = 1\n",
    "print(\"Generative -> \" + endsWithATIVE(\"Generative\")) #vcPair = 2\n",
    "print(\"Collaborative -> \" + endsWithATIVE(\"Collaborative\")) # vcPair = 3"
   ]
  },
  {
   "cell_type": "code",
   "execution_count": 16,
   "id": "301999ab",
   "metadata": {},
   "outputs": [],
   "source": [
    "# Solution 6\n",
    "def endsWithNESS(word):\n",
    "    if word.lower().endswith(\"ness\"):\n",
    "        send = word[:-4]\n",
    "        l = len(send) - 1\n",
    "        if vcPair(send) == 1 and isCons(word, l) and not isCons(word, l-1) and isCons(word, l-2):\n",
    "            return word\n",
    "        else: \n",
    "            return word[:-4]\n",
    "        \n",
    "    else:\n",
    "        return \"Not in case\""
   ]
  },
  {
   "cell_type": "code",
   "execution_count": 17,
   "id": "39ae2862",
   "metadata": {},
   "outputs": [
    {
     "name": "stdout",
     "output_type": "stream",
     "text": [
      "Witness -> Witness\n",
      "Shyness -> Shy\n",
      "Loneliness -> Loneli\n"
     ]
    }
   ],
   "source": [
    "# Examples for Solution 6\n",
    "print(\"Witness -> \" + endsWithNESS(\"Witness\")) # vcPair = 1 & ending in cvc\n",
    "print(\"Shyness -> \" + endsWithNESS(\"Shyness\")) # vcPair = 1 & not ending in cvc\n",
    "print(\"Loneliness -> \" + endsWithNESS(\"Loneliness\")) # vcPair = 2 & not ending in cvc"
   ]
  },
  {
   "cell_type": "code",
   "execution_count": 18,
   "id": "04741c60",
   "metadata": {},
   "outputs": [],
   "source": [
    "# Solution 7\n",
    "def endsWithAL(word):\n",
    "    if word.lower().endswith(\"al\"):\n",
    "        send = word[:-2]\n",
    "        if vcPair(send) == 2:\n",
    "            if word.lower().endswith(\"iral\"):\n",
    "                return word\n",
    "            elif vcSeries(send):\n",
    "                return word[:-2]\n",
    "            else: return word\n",
    "            \n",
    "        elif vcPair(send) > 1:\n",
    "            return word[:-2]\n",
    "        else: return word\n",
    "        \n",
    "    else:\n",
    "        return \"Not in case\""
   ]
  },
  {
   "cell_type": "code",
   "execution_count": 19,
   "id": "67934bf6",
   "metadata": {},
   "outputs": [
    {
     "name": "stdout",
     "output_type": "stream",
     "text": [
      "Pal -> Pal\n",
      "Medal -> Medal\n",
      "General -> Gener\n",
      "Chiral -> Chiral\n",
      "Admiral -> Admiral\n",
      "Antiviral -> Antivir\n"
     ]
    }
   ],
   "source": [
    "# Examples for Solution 7\n",
    "print(\"Pal -> \" + endsWithAL(\"Pal\")) # vcPair = 0\n",
    "print(\"Medal -> \" + endsWithAL(\"Medal\")) # vcPair = 1\n",
    "print(\"General -> \" + endsWithAL(\"General\")) # vcPair = 2\n",
    "print(\"Chiral -> \" + endsWithAL(\"Chiral\")) # vcPair = 0\n",
    "print(\"Admiral -> \" + endsWithAL(\"Admiral\")) # vcPair = 1\n",
    "print(\"Antiviral -> \" + endsWithAL(\"Antiviral\")) # vcPair = 2"
   ]
  },
  {
   "cell_type": "code",
   "execution_count": 20,
   "id": "a0ac7e76",
   "metadata": {},
   "outputs": [],
   "source": [
    "# Solution 8\n",
    "def endsWithER(word):\n",
    "    if word.lower().endswith(\"er\"):\n",
    "        send = word[:-3]\n",
    "        if word.lower().endswith(\"eer\") and vcPair(send) == 2:\n",
    "            return word[:-2]\n",
    "        else: \n",
    "            return word\n",
    "    else:\n",
    "        return \"Not in case\""
   ]
  },
  {
   "cell_type": "code",
   "execution_count": 21,
   "id": "9860ebb8",
   "metadata": {},
   "outputs": [
    {
     "name": "stdout",
     "output_type": "stream",
     "text": [
      "Cheer -> Cheer\n",
      "Pioneer -> Pioneer\n",
      "Engineer -> Engine\n",
      "Fiber -> Fiber\n",
      "Banner -> Banner\n"
     ]
    }
   ],
   "source": [
    "# Examples of Solution 8\n",
    "print(\"Cheer -> \" + endsWithER(\"Cheer\")) # vcPair = 0\n",
    "print(\"Pioneer -> \" + endsWithER(\"Pioneer\")) # vcPair = 2\n",
    "print(\"Engineer -> \" + endsWithER(\"Engineer\")) # vcPair = 1\n",
    "print(\"Fiber -> \" + endsWithER(\"Fiber\")) # vcPair = 0\n",
    "print(\"Banner -> \" + endsWithER(\"Banner\")) # vcPair = 1"
   ]
  },
  {
   "cell_type": "code",
   "execution_count": 22,
   "id": "d0568429",
   "metadata": {},
   "outputs": [],
   "source": [
    "# Solution 9\n",
    "def endsWithIBLE(word):\n",
    "    if word.lower().endswith(\"ible\"):\n",
    "        send = word[:-4]\n",
    "        if vcPair(send) == 2 and isCons(word, 0) and not vcSeries(send):\n",
    "            return word\n",
    "        else: return word[:-4]\n",
    "        \n",
    "    else:\n",
    "        return \"Not in case\""
   ]
  },
  {
   "cell_type": "code",
   "execution_count": 23,
   "id": "3b7e53c6",
   "metadata": {},
   "outputs": [
    {
     "name": "stdout",
     "output_type": "stream",
     "text": [
      "Visible -> Vis\n",
      "Reducible -> Reduc\n",
      "Responsible -> Responsible\n",
      "Reprehensible -> Reprehens\n"
     ]
    }
   ],
   "source": [
    "# Examples of Solution 9\n",
    "print(\"Visible -> \" + endsWithIBLE(\"Visible\")) # vcPair = 1\n",
    "print(\"Reducible -> \" + endsWithIBLE(\"Reducible\")) # vcPair = 2 and no vcSeries\n",
    "print(\"Responsible -> \" + endsWithIBLE(\"Responsible\")) # vcPair = 2 and vcSeries\n",
    "print(\"Reprehensible -> \" + endsWithIBLE(\"Reprehensible\")) #vcPair = 3"
   ]
  },
  {
   "cell_type": "code",
   "execution_count": 24,
   "id": "7254bdba",
   "metadata": {},
   "outputs": [],
   "source": [
    "# Solution 10\n",
    "def endsWithANCE(word):\n",
    "    if word.lower().endswith(\"ance\"):\n",
    "        send = word[:-4]\n",
    "        if vcPair(send) == 2 and vcSeries(send):\n",
    "            word = send + 'e'\n",
    "            return word\n",
    "        else:\n",
    "            return word[:-4]\n",
    "        \n",
    "    else:\n",
    "        return \"Not in case\""
   ]
  },
  {
   "cell_type": "code",
   "execution_count": 25,
   "id": "46e42151",
   "metadata": {},
   "outputs": [
    {
     "name": "stdout",
     "output_type": "stream",
     "text": [
      "Distance -> Dist\n",
      "Importance -> Import\n",
      "Severe -> Severe\n",
      "Importance -> Import\n"
     ]
    }
   ],
   "source": [
    "# Examples of Solution 10\n",
    "print(\"Distance -> \" + endsWithANCE(\"Distance\")) # vcPair = 1\n",
    "print(\"Importance -> \" + endsWithANCE(\"Importance\")) # vcPair = 2 and no vcSeries\n",
    "print(\"Severe -> \" + endsWithANCE(\"Severance\")) # vcPair = 2 and vcSeries\n",
    "print(\"Importance -> \" + endsWithANCE(\"Importance\")) # vcPair = 3"
   ]
  },
  {
   "cell_type": "code",
   "execution_count": 26,
   "id": "991f2a95",
   "metadata": {},
   "outputs": [],
   "source": [
    "# Solution 11\n",
    "def endsWithMENT(word):\n",
    "    if word.lower().endswith(\"iment\"):\n",
    "        send = word[:-5]\n",
    "        if vcPair(send) == 2 and not vcSeries(send):\n",
    "            return word\n",
    "        elif vcPair(send) > 1:\n",
    "            return word[:-4]\n",
    "        else: return word[:-4]\n",
    "    \n",
    "    elif word.lower().endswith(\"ement\") or word.lower().endswith(\"ment\"):\n",
    "        return word\n",
    " \n",
    "    else:\n",
    "        return \"Not in case\""
   ]
  },
  {
   "cell_type": "code",
   "execution_count": 27,
   "id": "cd3eb779",
   "metadata": {},
   "outputs": [
    {
     "name": "stdout",
     "output_type": "stream",
     "text": [
      "Regiment -> Regi\n",
      "Experiment -> Experiment\n",
      "Accompaniment -> Accompani\n"
     ]
    }
   ],
   "source": [
    "# Examples of Solution 11\n",
    "print(\"Regiment -> \" + endsWithMENT(\"Regiment\")) #vcPair = 1\n",
    "print(\"Experiment -> \" + endsWithMENT(\"Experiment\")) # vcPair = 2 and no vcSeries\n",
    "print(\"Accompaniment -> \" + endsWithMENT(\"Accompaniment\")) #vcPair = 3"
   ]
  },
  {
   "cell_type": "code",
   "execution_count": 28,
   "id": "bdcc853c",
   "metadata": {},
   "outputs": [],
   "source": [
    "# Solution 12\n",
    "def endsWithTION(word):\n",
    "    if word.lower().endswith(\"tion\"):\n",
    "        send = word[:-3]\n",
    "        if vcPair(send) == 2 and not vcSeries(send):\n",
    "            word = send + 'e'\n",
    "            return word\n",
    "        elif vcPair(send) > 1:\n",
    "            return word[:-3]\n",
    "        else: return word\n",
    "    else:\n",
    "        return \"Not in case\""
   ]
  },
  {
   "cell_type": "code",
   "execution_count": 29,
   "id": "15cadc9e",
   "metadata": {},
   "outputs": [
    {
     "name": "stdout",
     "output_type": "stream",
     "text": [
      "Station -> Station\n",
      "Sedition -> Sedit\n",
      "Secretion -> Secrete\n",
      "Deposition -> Deposit\n"
     ]
    }
   ],
   "source": [
    "# Examples of Solution 12\n",
    "print(\"Station -> \" + endsWithTION(\"Station\"))  # vcPair = 0\n",
    "print(\"Sedition -> \" + endsWithTION(\"Sedition\")) # vcPair = 1\n",
    "print(\"Secretion -> \" + endsWithTION(\"Secretion\")) # vcPair = 2 and not vcSeries\n",
    "print(\"Deposition -> \" + endsWithTION(\"Deposition\")) # vcPair = 2 and vcSeries"
   ]
  },
  {
   "cell_type": "code",
   "execution_count": 30,
   "id": "6143c081",
   "metadata": {},
   "outputs": [],
   "source": [
    "# Solution 13\n",
    "def endsWithATE(word):\n",
    "    if word.lower().endswith(\"nate\"):\n",
    "        send = word[:-4]\n",
    "        if vcPair(send) == 2 and vcSeries(send):\n",
    "            return word\n",
    "        else: return word[:-4]\n",
    "\n",
    "    elif word.lower().endswith(\"ate\"):\n",
    "        send = word[:-3]\n",
    "        if vcPair(send) == 2 and vcSeries(send):\n",
    "            return word\n",
    "        \n",
    "        elif vcPair(send) > 1:\n",
    "            return word[:-3]\n",
    "        \n",
    "        elif vcPair(send) == 1:\n",
    "            return word[:-1]\n",
    "        \n",
    "        elif vcPair(send) == 0:\n",
    "            return word\n",
    "        \n",
    "    else:\n",
    "        return \"Not in case\""
   ]
  },
  {
   "cell_type": "code",
   "execution_count": 31,
   "id": "7e4aa126",
   "metadata": {},
   "outputs": [
    {
     "name": "stdout",
     "output_type": "stream",
     "text": [
      "Ate -> Ate\n",
      "Situate -> Situat\n",
      "Designate -> Designate\n",
      "Inordinate -> Inordi\n",
      "Collaborate -> Collabor\n"
     ]
    }
   ],
   "source": [
    "# Examples of Solution 13\n",
    "print(\"Ate -> \" + endsWithATE(\"Ate\")) # vcPair = 0\n",
    "print(\"Situate -> \" + endsWithATE(\"Situate\")) # vcPair = 1\n",
    "print(\"Designate -> \" + endsWithATE(\"Designate\")) # vcPair = 2 and vcSeries\n",
    "print(\"Inordinate -> \" + endsWithATE(\"Inordinate\")) # vcPair = 2 and not vcSeries\n",
    "print(\"Collaborate -> \" + endsWithATE(\"Collaborate\")) # vcPair = 3"
   ]
  },
  {
   "cell_type": "code",
   "execution_count": 32,
   "id": "a3ba19cf",
   "metadata": {},
   "outputs": [],
   "source": [
    "# Solution 14\n",
    "def endsWithIZE(word):\n",
    "    if word.lower().endswith(\"ize\"):\n",
    "        send = word[:-3]\n",
    "        if vcPair(send) == 2 and isCons(send, 0) and vcSeries(send):\n",
    "            return word\n",
    "        elif vcPair(send) > 1:\n",
    "            return word[:-3]\n",
    "        else : return word\n",
    "        \n",
    "    else:\n",
    "        return \"Not in case\""
   ]
  },
  {
   "cell_type": "code",
   "execution_count": 33,
   "id": "9ccc58e2",
   "metadata": {},
   "outputs": [
    {
     "name": "stdout",
     "output_type": "stream",
     "text": [
      "Belize -> Belize\n",
      "Colonize -> Colonize\n",
      "Immunize -> Immun\n",
      "Aerosolize -> Aerosol\n"
     ]
    }
   ],
   "source": [
    "# Examples of Solution 14\n",
    "print(\"Belize -> \" + endsWithIZE(\"Belize\")) #vcPair = 1\n",
    "print(\"Colonize -> \" + endsWithIZE(\"Colonize\")) # vcPair = 2 and vcSeries\n",
    "print(\"Immunize -> \" + endsWithIZE(\"Immunize\")) # vcPair = 2 and no vcSeries\n",
    "print(\"Aerosolize -> \" + endsWithIZE(\"Aerosolize\")) # vcPair = 3 "
   ]
  },
  {
   "cell_type": "code",
   "execution_count": 34,
   "id": "ea55c502",
   "metadata": {},
   "outputs": [],
   "source": [
    "# Solution 15\n",
    "def endsWithITIVE(word):\n",
    "    if word.lower().endswith(\"itive\"):\n",
    "        send = word[:-5]\n",
    "        if vcPair(send) == 1 and isCons(send, 0) and vcSeries(send):\n",
    "            return word\n",
    "        elif vcPair(send) > 1:\n",
    "            return word[:-3]\n",
    "        else: return word\n",
    "      \n",
    "    else:\n",
    "        return \"Not in case\""
   ]
  },
  {
   "cell_type": "code",
   "execution_count": 35,
   "id": "d1a3799f",
   "metadata": {},
   "outputs": [
    {
     "name": "stdout",
     "output_type": "stream",
     "text": [
      "Positive -> Positive\n",
      "Additive -> Additive\n",
      "Acquisitive -> Acquisit\n",
      "Competitive -> Competit\n"
     ]
    }
   ],
   "source": [
    "# Examples of Solution 15\n",
    "print(\"Positive -> \" + endsWithITIVE(\"Positive\")) # vcPair 1 and vcSeries\n",
    "print(\"Additive -> \" + endsWithITIVE(\"Additive\")) # vcPair 1 and no vcSeries\n",
    "print(\"Acquisitive -> \" + endsWithITIVE(\"Acquisitive\")) # vcPair = 2\n",
    "print(\"Competitive -> \" + endsWithITIVE(\"Competitive\")) # vcPair = 2"
   ]
  },
  {
   "cell_type": "code",
   "execution_count": 36,
   "id": "04be17aa",
   "metadata": {},
   "outputs": [],
   "source": [
    "# Solution 16\n",
    "def endsWithITI(word):\n",
    "    if word.lower().endswith(\"iti\"):\n",
    "        send = word[:-3]\n",
    "        if vcPair(send) == 2 or vcPair(send) == 3 and isCons(send, 0) and vcSeries(send):\n",
    "            return word\n",
    "        elif vcPair(send) > 1:\n",
    "            return word[:-3]\n",
    "        else: return word\n",
    "      \n",
    "    else:\n",
    "        return \"Not in case\""
   ]
  },
  {
   "cell_type": "code",
   "execution_count": 37,
   "id": "ef13d7d9",
   "metadata": {},
   "outputs": [
    {
     "name": "stdout",
     "output_type": "stream",
     "text": [
      "Ameniti -> Ameniti\n",
      "Graffiti -> Graffiti\n",
      "Universiti -> Univers\n"
     ]
    }
   ],
   "source": [
    "# Examples for Solution 16\n",
    "print(\"Ameniti -> \" + endsWithITI(\"Ameniti\")) # vcPair = 1 \n",
    "print(\"Graffiti -> \" + endsWithITI(\"Graffiti\"))# vcPair = 1\n",
    "print(\"Universiti -> \" + endsWithITI(\"Universiti\"))# vcPair = 3"
   ]
  },
  {
   "cell_type": "code",
   "execution_count": 42,
   "id": "04daacb4",
   "metadata": {},
   "outputs": [],
   "source": [
    "# Driver Code\n",
    "import sys\n",
    "import csv\n",
    "\n",
    "with open(\"input.csv\", 'r') as csv_file, open(\"output.csv\", 'w', newline='') as output_file:\n",
    "    reader = csv.reader(csv_file)\n",
    "    writer = csv.writer(output_file)\n",
    "    for row in reader:\n",
    "        word = row[0]\n",
    "        value = row[1]\n",
    "        suffix_list = [\"es\",\"is\",\"ying\",\"ic\",\"ative\",\"ness\",\"al\",\"er\",\"ible\",\"ance\",\"ment\",\"tion\",\"ate\",\"ize\",\"itive\",\"iti\"]\n",
    "        for suffix in suffix_list:\n",
    "            if word.lower().endswith(suffix):\n",
    "                stemmed_word = getattr(sys.modules[__name__], \"endsWith%s\" % suffix.upper())(word)\n",
    "                if stemmed_word == value:\n",
    "                    string = \"Same\"\n",
    "                else:\n",
    "                    string = \"Different\"\n",
    "                writer.writerow([word, value, stemmed_word, suffix, string])\n",
    "            elif word[:-1] == 'e' and not word.lower().endswith(\"ative\") and not word.lower().endswith(\"ible\")and not  word.lower().endswith(\"ance\") and not word.lower().endswith(\"ate\") and not word.lower().endswith(\"ize\") and not word.lower().endswith(\"itive\"):\n",
    "                stemmed_word = endsWithE(word)\n",
    "                if stemmed_word == value:\n",
    "                    string = \"Same\"\n",
    "                else:\n",
    "                    string = \"Different\""
   ]
  }
 ],
 "metadata": {
  "kernelspec": {
   "display_name": "Python 3",
   "language": "python",
   "name": "python3"
  },
  "language_info": {
   "codemirror_mode": {
    "name": "ipython",
    "version": 3
   },
   "file_extension": ".py",
   "mimetype": "text/x-python",
   "name": "python",
   "nbconvert_exporter": "python",
   "pygments_lexer": "ipython3",
   "version": "3.8.5"
  }
 },
 "nbformat": 4,
 "nbformat_minor": 5
}
